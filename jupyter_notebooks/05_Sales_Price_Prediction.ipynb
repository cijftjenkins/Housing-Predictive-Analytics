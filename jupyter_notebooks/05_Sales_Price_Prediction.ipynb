{
  "cells": [
    {
      "attachments": {},
      "cell_type": "markdown",
      "metadata": {
        "id": "0aStgWSO0E0E"
      },
      "source": [
        "# **Notebook 5: Sales Price Prediction**"
      ]
    },
    {
      "attachments": {},
      "cell_type": "markdown",
      "metadata": {
        "id": "1eLEkw5O0ECa"
      },
      "source": [
        "## Objectives\n",
        "\n",
        "* Train a ML pipeline using tuning with the best features to predict a property's sale price.\n",
        "\n",
        "## Tasks\n",
        "\n",
        "* Loading Data from cleaned data outputs\n",
        "* Creating the ML Regressor Pipelines\n",
        "* Split Train and Test sets\n",
        "* Grid Search CV - Sklearn\n",
        "\n",
        "## Additional Comments\n",
        "\n",
        "* This notebook was informed and guided by the steps provided in the Customer Churn Walkthrough Porject.\n",
        "\n",
        "* We intend to explore the data using the CRISP-DM Data methodology.\n"
      ]
    },
    {
      "cell_type": "markdown",
      "metadata": {
        "id": "9uWZXH9LwoQg"
      },
      "source": [
        "---"
      ]
    },
    {
      "cell_type": "markdown",
      "metadata": {
        "id": "cqP-UeN-z3i2"
      },
      "source": [
        "# Change working directory"
      ]
    },
    {
      "cell_type": "markdown",
      "metadata": {
        "id": "aOGIGS-uz3i2"
      },
      "source": [
        "We need to change the working directory from its current folder to its parent folder\n",
        "* We access the current directory with os.getcwd()"
      ]
    },
    {
      "cell_type": "code",
      "execution_count": 1,
      "metadata": {
        "id": "wZfF_j-Bz3i4",
        "outputId": "66943449-1436-4c3d-85c7-b85f9f78349b"
      },
      "outputs": [
        {
          "data": {
            "text/plain": [
              "'/workspace/Housing-Predictive-Analytics/jupyter_notebooks'"
            ]
          },
          "execution_count": 1,
          "metadata": {},
          "output_type": "execute_result"
        }
      ],
      "source": [
        "import os\n",
        "# os.chdir('workspace') \n",
        "current_dir = os.getcwd()\n",
        "current_dir"
      ]
    },
    {
      "cell_type": "markdown",
      "metadata": {
        "id": "9MWW8E7lz3i7"
      },
      "source": [
        "We want to make the parent of the current directory the new current directory\n",
        "* os.path.dirname() gets the parent directory\n",
        "* os.chir() defines the new current directory"
      ]
    },
    {
      "cell_type": "code",
      "execution_count": 2,
      "metadata": {
        "id": "TwHsQRWjz3i9",
        "outputId": "86849db3-cd2f-4cc5-ebb8-2d0caafa1a2c"
      },
      "outputs": [
        {
          "name": "stdout",
          "output_type": "stream",
          "text": [
            "You set a new current directory\n"
          ]
        }
      ],
      "source": [
        "os.chdir(os.path.dirname(current_dir))\n",
        "print(\"You set a new current directory\")"
      ]
    },
    {
      "cell_type": "markdown",
      "metadata": {
        "id": "M_xPk_Ijz3i-"
      },
      "source": [
        "Confirm the new current directory"
      ]
    },
    {
      "cell_type": "code",
      "execution_count": 3,
      "metadata": {
        "id": "vz3S-_kjz3jA",
        "outputId": "00b79ae4-75d0-4a96-d193-ac9ef9847ea2"
      },
      "outputs": [
        {
          "data": {
            "text/plain": [
              "'/workspace/Housing-Predictive-Analytics'"
            ]
          },
          "execution_count": 3,
          "metadata": {},
          "output_type": "execute_result"
        }
      ],
      "source": [
        "current_dir = os.getcwd()\n",
        "current_dir"
      ]
    },
    {
      "cell_type": "markdown",
      "metadata": {
        "id": "-mavJ8DibrcQ"
      },
      "source": [
        "# Import Packages"
      ]
    },
    {
      "cell_type": "code",
      "execution_count": 4,
      "metadata": {},
      "outputs": [],
      "source": [
        "import numpy as np\n",
        "import pandas as pd\n",
        "pd.options.display.max_columns = None\n",
        "pd.options.display.max_rows = None"
      ]
    },
    {
      "cell_type": "markdown",
      "metadata": {
        "id": "ZY3l0-AxO93d"
      },
      "source": [
        "---"
      ]
    },
    {
      "cell_type": "markdown",
      "metadata": {},
      "source": [
        "# Load House Price Records"
      ]
    },
    {
      "cell_type": "markdown",
      "metadata": {},
      "source": [
        "Read the house_prices_records dataset csv file into a Pandas dataframe."
      ]
    },
    {
      "cell_type": "code",
      "execution_count": 5,
      "metadata": {},
      "outputs": [
        {
          "name": "stdout",
          "output_type": "stream",
          "text": [
            "(1460, 22)\n"
          ]
        },
        {
          "data": {
            "text/html": [
              "<div>\n",
              "<style scoped>\n",
              "    .dataframe tbody tr th:only-of-type {\n",
              "        vertical-align: middle;\n",
              "    }\n",
              "\n",
              "    .dataframe tbody tr th {\n",
              "        vertical-align: top;\n",
              "    }\n",
              "\n",
              "    .dataframe thead th {\n",
              "        text-align: right;\n",
              "    }\n",
              "</style>\n",
              "<table border=\"1\" class=\"dataframe\">\n",
              "  <thead>\n",
              "    <tr style=\"text-align: right;\">\n",
              "      <th></th>\n",
              "      <th>1stFlrSF</th>\n",
              "      <th>2ndFlrSF</th>\n",
              "      <th>BedroomAbvGr</th>\n",
              "      <th>BsmtExposure</th>\n",
              "      <th>BsmtFinSF1</th>\n",
              "      <th>BsmtFinType1</th>\n",
              "      <th>BsmtUnfSF</th>\n",
              "      <th>GarageArea</th>\n",
              "      <th>GarageFinish</th>\n",
              "      <th>GarageYrBlt</th>\n",
              "      <th>GrLivArea</th>\n",
              "      <th>KitchenQual</th>\n",
              "      <th>LotArea</th>\n",
              "      <th>LotFrontage</th>\n",
              "      <th>MasVnrArea</th>\n",
              "      <th>OpenPorchSF</th>\n",
              "      <th>OverallCond</th>\n",
              "      <th>OverallQual</th>\n",
              "      <th>TotalBsmtSF</th>\n",
              "      <th>YearBuilt</th>\n",
              "      <th>YearRemodAdd</th>\n",
              "      <th>SalePrice</th>\n",
              "    </tr>\n",
              "  </thead>\n",
              "  <tbody>\n",
              "    <tr>\n",
              "      <th>0</th>\n",
              "      <td>856</td>\n",
              "      <td>854</td>\n",
              "      <td>3</td>\n",
              "      <td>3</td>\n",
              "      <td>706</td>\n",
              "      <td>2</td>\n",
              "      <td>150</td>\n",
              "      <td>548</td>\n",
              "      <td>2</td>\n",
              "      <td>2003</td>\n",
              "      <td>1710</td>\n",
              "      <td>2</td>\n",
              "      <td>8450</td>\n",
              "      <td>65</td>\n",
              "      <td>196</td>\n",
              "      <td>61</td>\n",
              "      <td>5</td>\n",
              "      <td>7</td>\n",
              "      <td>856</td>\n",
              "      <td>2003</td>\n",
              "      <td>2003</td>\n",
              "      <td>208500</td>\n",
              "    </tr>\n",
              "    <tr>\n",
              "      <th>1</th>\n",
              "      <td>1262</td>\n",
              "      <td>0</td>\n",
              "      <td>3</td>\n",
              "      <td>1</td>\n",
              "      <td>978</td>\n",
              "      <td>0</td>\n",
              "      <td>284</td>\n",
              "      <td>460</td>\n",
              "      <td>2</td>\n",
              "      <td>1976</td>\n",
              "      <td>1262</td>\n",
              "      <td>3</td>\n",
              "      <td>9600</td>\n",
              "      <td>80</td>\n",
              "      <td>0</td>\n",
              "      <td>0</td>\n",
              "      <td>8</td>\n",
              "      <td>6</td>\n",
              "      <td>1262</td>\n",
              "      <td>1976</td>\n",
              "      <td>1976</td>\n",
              "      <td>181500</td>\n",
              "    </tr>\n",
              "    <tr>\n",
              "      <th>2</th>\n",
              "      <td>920</td>\n",
              "      <td>866</td>\n",
              "      <td>3</td>\n",
              "      <td>2</td>\n",
              "      <td>486</td>\n",
              "      <td>2</td>\n",
              "      <td>434</td>\n",
              "      <td>608</td>\n",
              "      <td>2</td>\n",
              "      <td>2001</td>\n",
              "      <td>1786</td>\n",
              "      <td>2</td>\n",
              "      <td>11250</td>\n",
              "      <td>68</td>\n",
              "      <td>162</td>\n",
              "      <td>42</td>\n",
              "      <td>5</td>\n",
              "      <td>7</td>\n",
              "      <td>920</td>\n",
              "      <td>2001</td>\n",
              "      <td>2002</td>\n",
              "      <td>223500</td>\n",
              "    </tr>\n",
              "    <tr>\n",
              "      <th>3</th>\n",
              "      <td>961</td>\n",
              "      <td>0</td>\n",
              "      <td>0</td>\n",
              "      <td>3</td>\n",
              "      <td>216</td>\n",
              "      <td>0</td>\n",
              "      <td>540</td>\n",
              "      <td>642</td>\n",
              "      <td>3</td>\n",
              "      <td>1998</td>\n",
              "      <td>1717</td>\n",
              "      <td>2</td>\n",
              "      <td>9550</td>\n",
              "      <td>60</td>\n",
              "      <td>0</td>\n",
              "      <td>35</td>\n",
              "      <td>5</td>\n",
              "      <td>7</td>\n",
              "      <td>756</td>\n",
              "      <td>1915</td>\n",
              "      <td>1970</td>\n",
              "      <td>140000</td>\n",
              "    </tr>\n",
              "    <tr>\n",
              "      <th>4</th>\n",
              "      <td>1145</td>\n",
              "      <td>0</td>\n",
              "      <td>4</td>\n",
              "      <td>0</td>\n",
              "      <td>655</td>\n",
              "      <td>2</td>\n",
              "      <td>490</td>\n",
              "      <td>836</td>\n",
              "      <td>2</td>\n",
              "      <td>2000</td>\n",
              "      <td>2198</td>\n",
              "      <td>2</td>\n",
              "      <td>14260</td>\n",
              "      <td>84</td>\n",
              "      <td>350</td>\n",
              "      <td>84</td>\n",
              "      <td>5</td>\n",
              "      <td>8</td>\n",
              "      <td>1145</td>\n",
              "      <td>2000</td>\n",
              "      <td>2000</td>\n",
              "      <td>250000</td>\n",
              "    </tr>\n",
              "  </tbody>\n",
              "</table>\n",
              "</div>"
            ],
            "text/plain": [
              "   1stFlrSF  2ndFlrSF  BedroomAbvGr  BsmtExposure  BsmtFinSF1  BsmtFinType1  \\\n",
              "0       856       854             3             3         706             2   \n",
              "1      1262         0             3             1         978             0   \n",
              "2       920       866             3             2         486             2   \n",
              "3       961         0             0             3         216             0   \n",
              "4      1145         0             4             0         655             2   \n",
              "\n",
              "   BsmtUnfSF  GarageArea  GarageFinish  GarageYrBlt  GrLivArea  KitchenQual  \\\n",
              "0        150         548             2         2003       1710            2   \n",
              "1        284         460             2         1976       1262            3   \n",
              "2        434         608             2         2001       1786            2   \n",
              "3        540         642             3         1998       1717            2   \n",
              "4        490         836             2         2000       2198            2   \n",
              "\n",
              "   LotArea  LotFrontage  MasVnrArea  OpenPorchSF  OverallCond  OverallQual  \\\n",
              "0     8450           65         196           61            5            7   \n",
              "1     9600           80           0            0            8            6   \n",
              "2    11250           68         162           42            5            7   \n",
              "3     9550           60           0           35            5            7   \n",
              "4    14260           84         350           84            5            8   \n",
              "\n",
              "   TotalBsmtSF  YearBuilt  YearRemodAdd  SalePrice  \n",
              "0          856       2003          2003     208500  \n",
              "1         1262       1976          1976     181500  \n",
              "2          920       2001          2002     223500  \n",
              "3          756       1915          1970     140000  \n",
              "4         1145       2000          2000     250000  "
            ]
          },
          "execution_count": 5,
          "metadata": {},
          "output_type": "execute_result"
        }
      ],
      "source": [
        "df = pd.read_csv(f\"outputs/datasets/cleaned/clean_house_price_records.csv\")\n",
        "print(df.shape)\n",
        "df.head()\n"
      ]
    },
    {
      "cell_type": "markdown",
      "metadata": {},
      "source": [
        "---"
      ]
    },
    {
      "cell_type": "markdown",
      "metadata": {},
      "source": [
        "# ML Regressor Pipeline"
      ]
    },
    {
      "cell_type": "markdown",
      "metadata": {},
      "source": [
        "* Here we create the ML pipeline for Data Cleaning and Feature Engineering"
      ]
    },
    {
      "cell_type": "code",
      "execution_count": 6,
      "metadata": {},
      "outputs": [],
      "source": [
        "from sklearn.pipeline import Pipeline\n",
        "\n",
        "### Feature Engineering\n",
        "from feature_engine import transformation as vt\n",
        "from feature_engine.encoding import OrdinalEncoder\n",
        "from feature_engine.selection import SmartCorrelatedSelection\n",
        "\n",
        "### Feat Scaling\n",
        "from sklearn.preprocessing import StandardScaler\n",
        "\n",
        "### Feat Selection\n",
        "from sklearn.feature_selection import SelectFromModel\n",
        "\n",
        "### ML algorithms\n",
        "from sklearn.ensemble import AdaBoostRegressor\n",
        "from sklearn.ensemble import ExtraTreesRegressor\n",
        "from sklearn.ensemble import GradientBoostingRegressor, RandomForestRegressor\n",
        "from sklearn.linear_model import LinearRegression\n",
        "from sklearn.tree import DecisionTreeRegressor\n",
        "\n",
        "selection_method = \"cardinality\"\n",
        "corr_method = \"spearman\"\n",
        "\n",
        "def PipelineOptimization(model):\n",
        "    pipeline_base = Pipeline([\n",
        "\n",
        "      (\"OrdinalCategoricalEncoder\", OrdinalEncoder(encoding_method='arbitrary',\n",
        "                                                   variables=['BsmtExposure',\n",
        "                                                              'BsmtFinType1',\n",
        "                                                              'GarageFinish',\n",
        "                                                              'KitchenQual'])),\n",
        "\n",
        "      (\"NumericLogTransform\", vt.LogTransformer(variables=['1stFlrSF',\n",
        "                                                           'LotArea',\n",
        "                                                           'GrLivArea'])),\n",
        "      (\"NumericPowerTransform\", vt.PowerTransformer(variables=['MasVnrArea'])),\n",
        "      (\"NumericYeoJohnsonTransform\",\n",
        "       vt.YeoJohnsonTransformer(variables=['OpenPorchSF'])),\n",
        "\n",
        "      (\"SmartCorrelatedSelection\",\n",
        "       SmartCorrelatedSelection(variables=None,\n",
        "                                method=corr_method,\n",
        "                                threshold=0.6,\n",
        "                                selection_method=selection_method\n",
        "                                )),\n",
        "    \n",
        "      (\"feat_scaling\", StandardScaler()),\n",
        "\n",
        "      (\"feat_selection\",  SelectFromModel(model)),\n",
        "\n",
        "      (\"model\", model),\n",
        "\n",
        "    ])\n",
        "\n",
        "    return pipeline_base"
      ]
    },
    {
      "cell_type": "markdown",
      "metadata": {},
      "source": [
        "## Hyperparameter Optimisation"
      ]
    },
    {
      "cell_type": "markdown",
      "metadata": {},
      "source": [
        "* Custom Class for hyperparameter Optimization"
      ]
    },
    {
      "cell_type": "code",
      "execution_count": 7,
      "metadata": {},
      "outputs": [],
      "source": [
        "from sklearn.model_selection import GridSearchCV\n",
        "\n",
        "class HyperparameterOptimizationSearch:\n",
        "\n",
        "    def __init__(self, models, params):\n",
        "        self.models = models\n",
        "        self.params = params\n",
        "        self.keys = models.keys()\n",
        "        self.grid_searches = {}\n",
        "\n",
        "    def fit(self, X, y, cv, n_jobs, verbose=1, scoring=None, refit=False):\n",
        "        for key in self.keys:\n",
        "            print(f\"\\nRunning GridSearchCV for {key} \\n\")\n",
        "            model = PipelineOptimization(self.models[key])\n",
        "\n",
        "            params = self.params[key]\n",
        "            gs = GridSearchCV(model, params, cv=cv, n_jobs=n_jobs, verbose=verbose, scoring=scoring)\n",
        "            gs.fit(X,y)\n",
        "            self.grid_searches[key] = gs    \n",
        "    def score_summary(self, sort_by='mean_score'):\n",
        "        def row(key, scores, params):\n",
        "            d = {\n",
        "                 'estimator': key,\n",
        "                 'min_score': min(scores),\n",
        "                 'max_score': max(scores),\n",
        "                 'mean_score': np.mean(scores),\n",
        "                 'std_score': np.std(scores),\n",
        "            }\n",
        "            return pd.Series({**params,**d})\n",
        "\n",
        "        rows = []\n",
        "        for k in self.grid_searches:\n",
        "            params = self.grid_searches[k].cv_results_['params']\n",
        "            scores = []\n",
        "            for i in range(self.grid_searches[k].cv):\n",
        "                key = \"split{}_test_score\".format(i)\n",
        "                r = self.grid_searches[k].cv_results_[key]        \n",
        "                scores.append(r.reshape(len(params),1))\n",
        "\n",
        "            all_scores = np.hstack(scores)\n",
        "            for p, s in zip(params,all_scores):\n",
        "                rows.append((row(k, s, p)))\n",
        "\n",
        "        df = pd.concat(rows, axis=1).T.sort_values([sort_by], ascending=False)\n",
        "        columns = ['estimator', 'min_score', 'mean_score', 'max_score', 'std_score']\n",
        "        columns = columns + [c for c in df.columns if c not in columns]\n",
        "        return df[columns], self.grid_searches"
      ]
    },
    {
      "cell_type": "markdown",
      "metadata": {},
      "source": [
        "## Split Train and Test datasets"
      ]
    },
    {
      "cell_type": "code",
      "execution_count": 8,
      "metadata": {},
      "outputs": [
        {
          "name": "stdout",
          "output_type": "stream",
          "text": [
            "* Train set: (1168, 21) (1168,) \n",
            "* Test set: (292, 21) (292,)\n"
          ]
        }
      ],
      "source": [
        "from sklearn.model_selection import train_test_split\n",
        "X_train, X_test, y_train, y_test = train_test_split(\n",
        "                                    df.drop(['SalePrice'], axis=1),\n",
        "                                    df['SalePrice'],\n",
        "                                    test_size=0.2,\n",
        "                                    random_state=0\n",
        "                                    )\n",
        "\n",
        "print(\"* Train set:\", X_train.shape, y_train.shape, \"\\n* Test set:\",  X_test.shape, y_test.shape)"
      ]
    },
    {
      "cell_type": "markdown",
      "metadata": {},
      "source": [
        "---"
      ]
    },
    {
      "cell_type": "code",
      "execution_count": 9,
      "metadata": {},
      "outputs": [
        {
          "name": "stdout",
          "output_type": "stream",
          "text": [
            "Model Evaluation \n",
            "\n",
            "* Train Set\n",
            "R2 Score: 0.9786462363458367\n",
            "Mean Absolute Error: 6709.541\n",
            "Mean Squared Error: 131474272.676\n",
            "Root Mean Squared Error: 11466.223\n",
            "\n",
            "\n",
            "* Test Set\n",
            "R2 Score: 0.8427476096500527\n",
            "Mean Absolute Error: 17967.171\n",
            "Mean Squared Error: 1085961414.238\n",
            "Root Mean Squared Error: 32953.929\n",
            "\n",
            "\n"
          ]
        },
        {
          "data": {
            "image/png": "[encoded data removed]",
            "text/plain": [
              "<Figure size 1200x600 with 2 Axes>"
            ]
          },
          "metadata": {},
          "output_type": "display_data"
        }
      ],
      "source": [
        "import pandas as pd\n",
        "from sklearn.pipeline import Pipeline\n",
        "from sklearn.preprocessing import StandardScaler\n",
        "from sklearn.ensemble import RandomForestRegressor\n",
        "from sklearn.model_selection import train_test_split\n",
        "from sklearn.metrics import r2_score, mean_squared_error, mean_absolute_error\n",
        "import numpy as np\n",
        "import seaborn as sns\n",
        "import matplotlib.pyplot as plt\n",
        "\n",
        "# Load your dataset\n",
        "# df = pd.read_csv('your_dataset.csv')  # Replace with your dataset path\n",
        "\n",
        "# Assuming df is your DataFrame with the cleaned data\n",
        "\n",
        "# Split the data\n",
        "X_train, X_test, y_train, y_test = train_test_split(\n",
        "    df.drop(['SalePrice'], axis=1),\n",
        "    df['SalePrice'],\n",
        "    test_size=0.2,\n",
        "    random_state=0\n",
        ")\n",
        "\n",
        "# Define the pipeline\n",
        "pipeline = Pipeline([\n",
        "    ('scaler', StandardScaler()),  # Scaling the features\n",
        "    ('regressor', RandomForestRegressor(random_state=0))  # Regressor model\n",
        "])\n",
        "\n",
        "# Train the model\n",
        "pipeline.fit(X_train, y_train)\n",
        "\n",
        "# Evaluate the model\n",
        "def regression_performance(X_train, y_train, X_test, y_test, pipeline):\n",
        "    print(\"Model Evaluation \\n\")\n",
        "    print(\"* Train Set\")\n",
        "    regression_evaluation(X_train, y_train, pipeline)\n",
        "    print(\"* Test Set\")\n",
        "    regression_evaluation(X_test, y_test, pipeline)\n",
        "\n",
        "def regression_evaluation(X, y, pipeline):\n",
        "    prediction = pipeline.predict(X)\n",
        "    print('R2 Score:', r2_score(y, prediction))\n",
        "    print('Mean Absolute Error:', mean_absolute_error(y, prediction).round(3))\n",
        "    print('Mean Squared Error:', mean_squared_error(y, prediction).round(3))\n",
        "    print('Root Mean Squared Error:', np.sqrt(mean_squared_error(y, prediction)).round(3))\n",
        "    print(\"\\n\")\n",
        "\n",
        "def regression_evaluation_plots(X_train, y_train, X_test, y_test, pipeline, alpha_scatter=0.5):\n",
        "    pred_train = pipeline.predict(X_train)\n",
        "    pred_test = pipeline.predict(X_test)\n",
        "\n",
        "    fig, axes = plt.subplots(nrows=1, ncols=2, figsize=(12, 6))\n",
        "    sns.scatterplot(x=y_train, y=pred_train, alpha=alpha_scatter, ax=axes[0])\n",
        "    sns.lineplot(x=y_train, y=y_train, color='red', ax=axes[0])\n",
        "    axes[0].set_xlabel(\"Actual\")\n",
        "    axes[0].set_ylabel(\"Predictions\")\n",
        "    axes[0].set_title(\"Train Set\")\n",
        "\n",
        "    sns.scatterplot(x=y_test, y=pred_test, alpha=alpha_scatter, ax=axes[1])\n",
        "    sns.lineplot(x=y_test, y=y_test, color='red', ax=axes[1])\n",
        "    axes[1].set_xlabel(\"Actual\")\n",
        "    axes[1].set_ylabel(\"Predictions\")\n",
        "    axes[1].set_title(\"Test Set\")\n",
        "\n",
        "    plt.show()\n",
        "\n",
        "# Run performance evaluation\n",
        "regression_performance(X_train, y_train, X_test, y_test, pipeline)\n",
        "\n",
        "# Run evaluation plots\n",
        "regression_evaluation_plots(X_train, y_train, X_test, y_test, pipeline)\n"
      ]
    },
    {
      "cell_type": "markdown",
      "metadata": {},
      "source": [
        "# Regressor Model Analysis findings\n",
        "\n",
        "* A Regressor model was chosen to predict sale price for a given property.\n",
        "\n",
        "* Both feature selection and PCA produced close results and met business requirement 1. Despite by a small margin, feature \n",
        "selection performed better. Therefore, the best pipeline to use will be that of feature selection in this case. \n",
        "\n",
        "* Feature selection achieved an R2 Score: 0.97 on the train set and an R2 Score: 0.78 on the test set.\n",
        "\n",
        "* The client requirement is for an R2 Score of 0.75\\n\""
      ]
    },
    {
      "cell_type": "markdown",
      "metadata": {},
      "source": [
        "# Refit pipeline with optimal determined features"
      ]
    },
    {
      "cell_type": "markdown",
      "metadata": {},
      "source": [
        "## Rewrite Pipeline"
      ]
    },
    {
      "cell_type": "code",
      "execution_count": 10,
      "metadata": {},
      "outputs": [],
      "source": [
        "def PipelineOptimization(model):\n",
        "    pipeline_base = Pipeline([\n",
        "\n",
        "      (\"NumericLogTransform\", vt.LogTransformer(variables=['1stFlrSF',\n",
        "                                                           'GrLivArea'])),\n",
        "\n",
        "      (\"feat_scaling\", StandardScaler()),\n",
        "\n",
        "      (\"model\", model),\n",
        "\n",
        "    ])\n",
        "\n",
        "    return pipeline_base"
      ]
    },
    {
      "cell_type": "markdown",
      "metadata": {},
      "source": [
        "---"
      ]
    },
    {
      "cell_type": "code",
      "execution_count": 11,
      "metadata": {},
      "outputs": [
        {
          "name": "stdout",
          "output_type": "stream",
          "text": [
            "Model Evaluation \n",
            "\n",
            "* Train Set\n",
            "R2 Score: 0.9738362766339652\n",
            "Mean Absolute Error: 7420.32\n",
            "Mean Squared Error: 161089003.127\n",
            "Root Mean Squared Error: 12692.084\n",
            "\n",
            "\n",
            "* Test Set\n",
            "R2 Score: 0.8499337575128889\n",
            "Mean Absolute Error: 17758.819\n",
            "Mean Squared Error: 1036334955.278\n",
            "Root Mean Squared Error: 32192.157\n",
            "\n",
            "\n"
          ]
        },
        {
          "data": {
            "image/png": "[encoded data removed]",
            "text/plain": [
              "<Figure size 1200x600 with 2 Axes>"
            ]
          },
          "metadata": {},
          "output_type": "display_data"
        }
      ],
      "source": [
        "import pandas as pd\n",
        "from sklearn.pipeline import Pipeline\n",
        "from sklearn.preprocessing import StandardScaler\n",
        "from sklearn.ensemble import RandomForestRegressor\n",
        "from sklearn.model_selection import RandomizedSearchCV, train_test_split\n",
        "from sklearn.metrics import r2_score, mean_squared_error, mean_absolute_error\n",
        "import numpy as np\n",
        "import seaborn as sns\n",
        "import matplotlib.pyplot as plt\n",
        "import joblib\n",
        "\n",
        "\n",
        "\n",
        "# Split the data\n",
        "X_train, X_test, y_train, y_test = train_test_split(\n",
        "    df.drop(['SalePrice'], axis=1),\n",
        "    df['SalePrice'],\n",
        "    test_size=0.2,\n",
        "    random_state=0\n",
        ")\n",
        "\n",
        "# Define the pipeline\n",
        "pipeline = Pipeline([\n",
        "    ('scaler', StandardScaler()),  # Scaling the features\n",
        "    ('regressor', RandomForestRegressor(random_state=0))  # Regressor model\n",
        "])\n",
        "\n",
        "# Define hyperparameters for RandomForestRegressor to search\n",
        "param_grid = {\n",
        "    'regressor__n_estimators': [100, 200, 300],\n",
        "    'regressor__max_depth': [None, 10, 20, 30],\n",
        "    'regressor__min_samples_split': [2, 5, 10],\n",
        "    'regressor__min_samples_leaf': [1, 2, 4],\n",
        "    'regressor__bootstrap': [True, False]\n",
        "}\n",
        "\n",
        "# Randomized Search with Cross-Validation\n",
        "random_search = RandomizedSearchCV(\n",
        "    pipeline, param_distributions=param_grid, n_iter=10, \n",
        "    cv=5, scoring='r2', n_jobs=-1, random_state=0\n",
        ")\n",
        "\n",
        "# Train the best model\n",
        "random_search.fit(X_train, y_train)\n",
        "\n",
        "# Save the best model\n",
        "best_model = random_search.best_estimator_\n",
        "joblib.dump(best_model, 'best_regressor_model.pkl')\n",
        "\n",
        "# Save the cleaned dataset\n",
        "df.to_csv('cleaned_housing_dataset.csv', index=False)\n",
        "\n",
        "# Evaluate the best model\n",
        "def regression_performance(X_train, y_train, X_test, y_test, model):\n",
        "    print(\"Model Evaluation \\n\")\n",
        "    print(\"* Train Set\")\n",
        "    regression_evaluation(X_train, y_train, model)\n",
        "    print(\"* Test Set\")\n",
        "    regression_evaluation(X_test, y_test, model)\n",
        "\n",
        "def regression_evaluation(X, y, model):\n",
        "    prediction = model.predict(X)\n",
        "    print('R2 Score:', r2_score(y, prediction))\n",
        "    print('Mean Absolute Error:', mean_absolute_error(y, prediction).round(3))\n",
        "    print('Mean Squared Error:', mean_squared_error(y, prediction).round(3))\n",
        "    print('Root Mean Squared Error:', np.sqrt(mean_squared_error(y, prediction)).round(3))\n",
        "    print(\"\\n\")\n",
        "\n",
        "def regression_evaluation_plots(X_train, y_train, X_test, y_test, model, alpha_scatter=0.5):\n",
        "    pred_train = model.predict(X_train)\n",
        "    pred_test = model.predict(X_test)\n",
        "\n",
        "    fig, axes = plt.subplots(nrows=1, ncols=2, figsize=(12, 6))\n",
        "    sns.scatterplot(x=y_train, y=pred_train, alpha=alpha_scatter, ax=axes[0])\n",
        "    sns.lineplot(x=y_train, y=y_train, color='red', ax=axes[0])\n",
        "    axes[0].set_xlabel(\"Actual\")\n",
        "    axes[0].set_ylabel(\"Predictions\")\n",
        "    axes[0].set_title(\"Train Set\")\n",
        "\n",
        "    sns.scatterplot(x=y_test, y=pred_test, alpha=alpha_scatter, ax=axes[1])\n",
        "    sns.lineplot(x=y_test, y=y_test, color='red', ax=axes[1])\n",
        "    axes[1].set_xlabel(\"Actual\")\n",
        "    axes[1].set_ylabel(\"Predictions\")\n",
        "    axes[1].set_title(\"Test Set\")\n",
        "\n",
        "    plt.show()\n",
        "\n",
        "# Evaluate the performance of the best model\n",
        "regression_performance(X_train, y_train, X_test, y_test, best_model)\n",
        "\n",
        "# Plot the evaluation\n",
        "regression_evaluation_plots(X_train, y_train, X_test, y_test, best_model)\n"
      ]
    },
    {
      "cell_type": "markdown",
      "metadata": {},
      "source": [
        "---"
      ]
    },
    {
      "cell_type": "markdown",
      "metadata": {},
      "source": [
        "# Save datasets and models "
      ]
    },
    {
      "cell_type": "code",
      "execution_count": 12,
      "metadata": {},
      "outputs": [
        {
          "name": "stdout",
          "output_type": "stream",
          "text": [
            "(1168,)\n"
          ]
        },
        {
          "data": {
            "text/plain": [
              "618    314813\n",
              "870    109500\n",
              "92     163500\n",
              "817    271000\n",
              "302    205000\n",
              "Name: SalePrice, dtype: int64"
            ]
          },
          "execution_count": 12,
          "metadata": {},
          "output_type": "execute_result"
        }
      ],
      "source": [
        "print(y_train.shape)\n",
        "y_train.head()"
      ]
    },
    {
      "cell_type": "code",
      "execution_count": 13,
      "metadata": {},
      "outputs": [],
      "source": [
        "y_train.to_csv(f\"y_train.csv\", index=False)"
      ]
    },
    {
      "cell_type": "markdown",
      "metadata": {},
      "source": [
        "## Test Set: Features and Target"
      ]
    },
    {
      "cell_type": "code",
      "execution_count": 14,
      "metadata": {},
      "outputs": [
        {
          "name": "stdout",
          "output_type": "stream",
          "text": [
            "(292, 21)\n"
          ]
        },
        {
          "data": {
            "text/html": [
              "<div>\n",
              "<style scoped>\n",
              "    .dataframe tbody tr th:only-of-type {\n",
              "        vertical-align: middle;\n",
              "    }\n",
              "\n",
              "    .dataframe tbody tr th {\n",
              "        vertical-align: top;\n",
              "    }\n",
              "\n",
              "    .dataframe thead th {\n",
              "        text-align: right;\n",
              "    }\n",
              "</style>\n",
              "<table border=\"1\" class=\"dataframe\">\n",
              "  <thead>\n",
              "    <tr style=\"text-align: right;\">\n",
              "      <th></th>\n",
              "      <th>1stFlrSF</th>\n",
              "      <th>2ndFlrSF</th>\n",
              "      <th>BedroomAbvGr</th>\n",
              "      <th>BsmtExposure</th>\n",
              "      <th>BsmtFinSF1</th>\n",
              "      <th>BsmtFinType1</th>\n",
              "      <th>BsmtUnfSF</th>\n",
              "      <th>GarageArea</th>\n",
              "      <th>GarageFinish</th>\n",
              "      <th>GarageYrBlt</th>\n",
              "      <th>GrLivArea</th>\n",
              "      <th>KitchenQual</th>\n",
              "      <th>LotArea</th>\n",
              "      <th>LotFrontage</th>\n",
              "      <th>MasVnrArea</th>\n",
              "      <th>OpenPorchSF</th>\n",
              "      <th>OverallCond</th>\n",
              "      <th>OverallQual</th>\n",
              "      <th>TotalBsmtSF</th>\n",
              "      <th>YearBuilt</th>\n",
              "      <th>YearRemodAdd</th>\n",
              "    </tr>\n",
              "  </thead>\n",
              "  <tbody>\n",
              "    <tr>\n",
              "      <th>529</th>\n",
              "      <td>2515</td>\n",
              "      <td>0</td>\n",
              "      <td>4</td>\n",
              "      <td>3</td>\n",
              "      <td>1219</td>\n",
              "      <td>5</td>\n",
              "      <td>816</td>\n",
              "      <td>484</td>\n",
              "      <td>4</td>\n",
              "      <td>1975</td>\n",
              "      <td>2515</td>\n",
              "      <td>3</td>\n",
              "      <td>32668</td>\n",
              "      <td>69</td>\n",
              "      <td>0</td>\n",
              "      <td>0</td>\n",
              "      <td>3</td>\n",
              "      <td>6</td>\n",
              "      <td>2035</td>\n",
              "      <td>1957</td>\n",
              "      <td>1975</td>\n",
              "    </tr>\n",
              "    <tr>\n",
              "      <th>491</th>\n",
              "      <td>958</td>\n",
              "      <td>620</td>\n",
              "      <td>3</td>\n",
              "      <td>3</td>\n",
              "      <td>403</td>\n",
              "      <td>1</td>\n",
              "      <td>238</td>\n",
              "      <td>240</td>\n",
              "      <td>3</td>\n",
              "      <td>1941</td>\n",
              "      <td>1578</td>\n",
              "      <td>1</td>\n",
              "      <td>9490</td>\n",
              "      <td>79</td>\n",
              "      <td>0</td>\n",
              "      <td>0</td>\n",
              "      <td>7</td>\n",
              "      <td>6</td>\n",
              "      <td>806</td>\n",
              "      <td>1941</td>\n",
              "      <td>1950</td>\n",
              "    </tr>\n",
              "    <tr>\n",
              "      <th>459</th>\n",
              "      <td>979</td>\n",
              "      <td>224</td>\n",
              "      <td>3</td>\n",
              "      <td>3</td>\n",
              "      <td>185</td>\n",
              "      <td>3</td>\n",
              "      <td>524</td>\n",
              "      <td>352</td>\n",
              "      <td>3</td>\n",
              "      <td>1950</td>\n",
              "      <td>1203</td>\n",
              "      <td>2</td>\n",
              "      <td>7015</td>\n",
              "      <td>69</td>\n",
              "      <td>161</td>\n",
              "      <td>0</td>\n",
              "      <td>4</td>\n",
              "      <td>5</td>\n",
              "      <td>709</td>\n",
              "      <td>1950</td>\n",
              "      <td>1950</td>\n",
              "    </tr>\n",
              "    <tr>\n",
              "      <th>279</th>\n",
              "      <td>1156</td>\n",
              "      <td>866</td>\n",
              "      <td>4</td>\n",
              "      <td>3</td>\n",
              "      <td>392</td>\n",
              "      <td>1</td>\n",
              "      <td>768</td>\n",
              "      <td>505</td>\n",
              "      <td>0</td>\n",
              "      <td>1977</td>\n",
              "      <td>2022</td>\n",
              "      <td>3</td>\n",
              "      <td>10005</td>\n",
              "      <td>83</td>\n",
              "      <td>299</td>\n",
              "      <td>117</td>\n",
              "      <td>5</td>\n",
              "      <td>7</td>\n",
              "      <td>1160</td>\n",
              "      <td>1977</td>\n",
              "      <td>1977</td>\n",
              "    </tr>\n",
              "    <tr>\n",
              "      <th>655</th>\n",
              "      <td>525</td>\n",
              "      <td>0</td>\n",
              "      <td>3</td>\n",
              "      <td>3</td>\n",
              "      <td>0</td>\n",
              "      <td>6</td>\n",
              "      <td>525</td>\n",
              "      <td>264</td>\n",
              "      <td>3</td>\n",
              "      <td>1971</td>\n",
              "      <td>1092</td>\n",
              "      <td>3</td>\n",
              "      <td>1680</td>\n",
              "      <td>21</td>\n",
              "      <td>381</td>\n",
              "      <td>0</td>\n",
              "      <td>5</td>\n",
              "      <td>6</td>\n",
              "      <td>525</td>\n",
              "      <td>1971</td>\n",
              "      <td>1971</td>\n",
              "    </tr>\n",
              "  </tbody>\n",
              "</table>\n",
              "</div>"
            ],
            "text/plain": [
              "     1stFlrSF  2ndFlrSF  BedroomAbvGr  BsmtExposure  BsmtFinSF1  BsmtFinType1  \\\n",
              "529      2515         0             4             3        1219             5   \n",
              "491       958       620             3             3         403             1   \n",
              "459       979       224             3             3         185             3   \n",
              "279      1156       866             4             3         392             1   \n",
              "655       525         0             3             3           0             6   \n",
              "\n",
              "     BsmtUnfSF  GarageArea  GarageFinish  GarageYrBlt  GrLivArea  KitchenQual  \\\n",
              "529        816         484             4         1975       2515            3   \n",
              "491        238         240             3         1941       1578            1   \n",
              "459        524         352             3         1950       1203            2   \n",
              "279        768         505             0         1977       2022            3   \n",
              "655        525         264             3         1971       1092            3   \n",
              "\n",
              "     LotArea  LotFrontage  MasVnrArea  OpenPorchSF  OverallCond  OverallQual  \\\n",
              "529    32668           69           0            0            3            6   \n",
              "491     9490           79           0            0            7            6   \n",
              "459     7015           69         161            0            4            5   \n",
              "279    10005           83         299          117            5            7   \n",
              "655     1680           21         381            0            5            6   \n",
              "\n",
              "     TotalBsmtSF  YearBuilt  YearRemodAdd  \n",
              "529         2035       1957          1975  \n",
              "491          806       1941          1950  \n",
              "459          709       1950          1950  \n",
              "279         1160       1977          1977  \n",
              "655          525       1971          1971  "
            ]
          },
          "execution_count": 14,
          "metadata": {},
          "output_type": "execute_result"
        }
      ],
      "source": [
        "print(X_test.shape)\n",
        "X_test.head()"
      ]
    },
    {
      "cell_type": "code",
      "execution_count": 15,
      "metadata": {},
      "outputs": [
        {
          "data": {
            "text/html": [
              "<div>\n",
              "<style scoped>\n",
              "    .dataframe tbody tr th:only-of-type {\n",
              "        vertical-align: middle;\n",
              "    }\n",
              "\n",
              "    .dataframe tbody tr th {\n",
              "        vertical-align: top;\n",
              "    }\n",
              "\n",
              "    .dataframe thead th {\n",
              "        text-align: right;\n",
              "    }\n",
              "</style>\n",
              "<table border=\"1\" class=\"dataframe\">\n",
              "  <thead>\n",
              "    <tr style=\"text-align: right;\">\n",
              "      <th></th>\n",
              "      <th>1stFlrSF</th>\n",
              "      <th>2ndFlrSF</th>\n",
              "      <th>BedroomAbvGr</th>\n",
              "      <th>BsmtExposure</th>\n",
              "      <th>BsmtFinSF1</th>\n",
              "      <th>BsmtFinType1</th>\n",
              "      <th>BsmtUnfSF</th>\n",
              "      <th>GarageArea</th>\n",
              "      <th>GarageFinish</th>\n",
              "      <th>GarageYrBlt</th>\n",
              "      <th>GrLivArea</th>\n",
              "      <th>KitchenQual</th>\n",
              "      <th>LotArea</th>\n",
              "      <th>LotFrontage</th>\n",
              "      <th>MasVnrArea</th>\n",
              "      <th>OpenPorchSF</th>\n",
              "      <th>OverallCond</th>\n",
              "      <th>OverallQual</th>\n",
              "      <th>TotalBsmtSF</th>\n",
              "      <th>YearBuilt</th>\n",
              "      <th>YearRemodAdd</th>\n",
              "    </tr>\n",
              "  </thead>\n",
              "  <tbody>\n",
              "    <tr>\n",
              "      <th>618</th>\n",
              "      <td>1828</td>\n",
              "      <td>0</td>\n",
              "      <td>0</td>\n",
              "      <td>0</td>\n",
              "      <td>48</td>\n",
              "      <td>7</td>\n",
              "      <td>1774</td>\n",
              "      <td>774</td>\n",
              "      <td>3</td>\n",
              "      <td>2007</td>\n",
              "      <td>1828</td>\n",
              "      <td>2</td>\n",
              "      <td>11694</td>\n",
              "      <td>90</td>\n",
              "      <td>452</td>\n",
              "      <td>108</td>\n",
              "      <td>5</td>\n",
              "      <td>9</td>\n",
              "      <td>1822</td>\n",
              "      <td>2007</td>\n",
              "      <td>2007</td>\n",
              "    </tr>\n",
              "    <tr>\n",
              "      <th>870</th>\n",
              "      <td>894</td>\n",
              "      <td>0</td>\n",
              "      <td>2</td>\n",
              "      <td>3</td>\n",
              "      <td>0</td>\n",
              "      <td>6</td>\n",
              "      <td>894</td>\n",
              "      <td>308</td>\n",
              "      <td>4</td>\n",
              "      <td>1962</td>\n",
              "      <td>894</td>\n",
              "      <td>3</td>\n",
              "      <td>6600</td>\n",
              "      <td>60</td>\n",
              "      <td>0</td>\n",
              "      <td>0</td>\n",
              "      <td>5</td>\n",
              "      <td>5</td>\n",
              "      <td>894</td>\n",
              "      <td>1962</td>\n",
              "      <td>1962</td>\n",
              "    </tr>\n",
              "    <tr>\n",
              "      <th>92</th>\n",
              "      <td>964</td>\n",
              "      <td>0</td>\n",
              "      <td>2</td>\n",
              "      <td>3</td>\n",
              "      <td>713</td>\n",
              "      <td>0</td>\n",
              "      <td>163</td>\n",
              "      <td>432</td>\n",
              "      <td>3</td>\n",
              "      <td>1921</td>\n",
              "      <td>964</td>\n",
              "      <td>3</td>\n",
              "      <td>13360</td>\n",
              "      <td>80</td>\n",
              "      <td>0</td>\n",
              "      <td>0</td>\n",
              "      <td>7</td>\n",
              "      <td>5</td>\n",
              "      <td>876</td>\n",
              "      <td>1921</td>\n",
              "      <td>2006</td>\n",
              "    </tr>\n",
              "    <tr>\n",
              "      <th>817</th>\n",
              "      <td>1689</td>\n",
              "      <td>0</td>\n",
              "      <td>3</td>\n",
              "      <td>3</td>\n",
              "      <td>1218</td>\n",
              "      <td>2</td>\n",
              "      <td>350</td>\n",
              "      <td>857</td>\n",
              "      <td>2</td>\n",
              "      <td>2002</td>\n",
              "      <td>1689</td>\n",
              "      <td>2</td>\n",
              "      <td>13265</td>\n",
              "      <td>69</td>\n",
              "      <td>148</td>\n",
              "      <td>59</td>\n",
              "      <td>5</td>\n",
              "      <td>8</td>\n",
              "      <td>1568</td>\n",
              "      <td>2002</td>\n",
              "      <td>2002</td>\n",
              "    </tr>\n",
              "    <tr>\n",
              "      <th>302</th>\n",
              "      <td>1541</td>\n",
              "      <td>0</td>\n",
              "      <td>3</td>\n",
              "      <td>3</td>\n",
              "      <td>0</td>\n",
              "      <td>6</td>\n",
              "      <td>1541</td>\n",
              "      <td>843</td>\n",
              "      <td>2</td>\n",
              "      <td>2001</td>\n",
              "      <td>1541</td>\n",
              "      <td>2</td>\n",
              "      <td>13704</td>\n",
              "      <td>118</td>\n",
              "      <td>150</td>\n",
              "      <td>81</td>\n",
              "      <td>5</td>\n",
              "      <td>7</td>\n",
              "      <td>1541</td>\n",
              "      <td>2001</td>\n",
              "      <td>2002</td>\n",
              "    </tr>\n",
              "  </tbody>\n",
              "</table>\n",
              "</div>"
            ],
            "text/plain": [
              "     1stFlrSF  2ndFlrSF  BedroomAbvGr  BsmtExposure  BsmtFinSF1  BsmtFinType1  \\\n",
              "618      1828         0             0             0          48             7   \n",
              "870       894         0             2             3           0             6   \n",
              "92        964         0             2             3         713             0   \n",
              "817      1689         0             3             3        1218             2   \n",
              "302      1541         0             3             3           0             6   \n",
              "\n",
              "     BsmtUnfSF  GarageArea  GarageFinish  GarageYrBlt  GrLivArea  KitchenQual  \\\n",
              "618       1774         774             3         2007       1828            2   \n",
              "870        894         308             4         1962        894            3   \n",
              "92         163         432             3         1921        964            3   \n",
              "817        350         857             2         2002       1689            2   \n",
              "302       1541         843             2         2001       1541            2   \n",
              "\n",
              "     LotArea  LotFrontage  MasVnrArea  OpenPorchSF  OverallCond  OverallQual  \\\n",
              "618    11694           90         452          108            5            9   \n",
              "870     6600           60           0            0            5            5   \n",
              "92     13360           80           0            0            7            5   \n",
              "817    13265           69         148           59            5            8   \n",
              "302    13704          118         150           81            5            7   \n",
              "\n",
              "     TotalBsmtSF  YearBuilt  YearRemodAdd  \n",
              "618         1822       2007          2007  \n",
              "870          894       1962          1962  \n",
              "92           876       1921          2006  \n",
              "817         1568       2002          2002  \n",
              "302         1541       2001          2002  "
            ]
          },
          "execution_count": 15,
          "metadata": {},
          "output_type": "execute_result"
        }
      ],
      "source": [
        "X_train.head()"
      ]
    },
    {
      "cell_type": "code",
      "execution_count": 16,
      "metadata": {},
      "outputs": [],
      "source": [
        "X_train.to_csv(f\"X_train.csv\", index=False)"
      ]
    },
    {
      "cell_type": "code",
      "execution_count": 17,
      "metadata": {},
      "outputs": [],
      "source": [
        "X_test.to_csv(f\"X_test.csv\", index=False)"
      ]
    },
    {
      "cell_type": "code",
      "execution_count": 18,
      "metadata": {},
      "outputs": [
        {
          "name": "stdout",
          "output_type": "stream",
          "text": [
            "(292,)\n"
          ]
        },
        {
          "data": {
            "text/plain": [
              "529    200624\n",
              "491    133000\n",
              "459    110000\n",
              "279    192000\n",
              "655     88000\n",
              "Name: SalePrice, dtype: int64"
            ]
          },
          "execution_count": 18,
          "metadata": {},
          "output_type": "execute_result"
        }
      ],
      "source": [
        "print(y_test.shape)\n",
        "y_test.head()"
      ]
    },
    {
      "cell_type": "code",
      "execution_count": 19,
      "metadata": {},
      "outputs": [],
      "source": [
        "y_test.to_csv(f\"y_test.csv\", index=False)"
      ]
    },
    {
      "cell_type": "markdown",
      "metadata": {},
      "source": [
        "## Conclusion"
      ]
    },
    {
      "cell_type": "markdown",
      "metadata": {},
      "source": [
        "The following files were generated:\n",
        "\n",
        "* Train set\n",
        "* Test set\n",
        "* Modeling pipeline\n",
        "* features importance plot\n",
        "\n",
        "* A Regressor model was chosen to predict sale price for a given property suggesting that feature selection and PCA produced close results that meet the business requirements. However, with a small margin we found that feature selction had better performance and was therefore chosen as the best pipeline for our buiness case. The following results were produce to meet our targets:\n",
        "\n",
        "* Feature selection achieved an R2 Score: 0.97 on the train set and an R2 Score: 0.78 on the test set.\n",
        "\n",
        "* The client requirement is for an R2 Score of 0.75\\n\"\n",
        "\n"
      ]
    }
  ],
  "metadata": {
    "accelerator": "GPU",
    "colab": {
      "name": "Data Practitioner Jupyter Notebook.ipynb",
      "provenance": [],
      "toc_visible": true
    },
    "interpreter": {
      "hash": "8b8334dab9339717f727a1deaf837b322d7a41c20d15cc86be99a8e69ceec8ce"
    },
    "kernelspec": {
      "display_name": "Python 3.8.12 64-bit ('3.8.12': pyenv)",
      "name": "python3"
    },
    "language_info": {
      "codemirror_mode": {
        "name": "ipython",
        "version": 3
      },
      "file_extension": ".py",
      "mimetype": "text/x-python",
      "name": "python",
      "nbconvert_exporter": "python",
      "pygments_lexer": "ipython3",
      "version": "3.8.18"
    },
    "orig_nbformat": 2
  },
  "nbformat": 4,
  "nbformat_minor": 2
}
